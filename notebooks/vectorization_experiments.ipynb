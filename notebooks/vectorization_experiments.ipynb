{
 "cells": [
  {
   "cell_type": "markdown",
   "id": "bbc6157f-3e31-4ad8-9fef-ce9e0265946c",
   "metadata": {},
   "source": [
    "#### Setup and Configuration"
   ]
  },
  {
   "cell_type": "code",
   "execution_count": 1,
   "id": "b3e54197-6902-462f-810f-365e1e15679e",
   "metadata": {},
   "outputs": [],
   "source": [
    "import re\n",
    "import numpy as np\n",
    "import faiss\n",
    "import openai\n",
    "from tqdm.auto import tqdm\n",
    "import requests\n",
    "import yaml"
   ]
  },
  {
   "cell_type": "markdown",
   "id": "290de2b3-ff79-4acb-9859-019087233d9b",
   "metadata": {},
   "source": [
    "#### Load OpenAI API Key"
   ]
  },
  {
   "cell_type": "code",
   "execution_count": 2,
   "id": "4c73b04d-b655-4e12-ab24-08e1a561810d",
   "metadata": {},
   "outputs": [],
   "source": [
    "with open(\"../secrets/credentials.yml\", \"r\") as stream:\n",
    "    config = yaml.safe_load(stream)\n",
    "\n",
    "\n",
    "OPENAI_CREDENTIALS = config[\"OPENAI_CREDENTIALS\"]"
   ]
  },
  {
   "cell_type": "markdown",
   "id": "9062d701-414b-44f6-91c6-804ed3ab45e5",
   "metadata": {},
   "source": [
    "#### Read and Preprocess Markdown File"
   ]
  },
  {
   "cell_type": "code",
   "execution_count": 3,
   "id": "b3d6bf5b-0eef-411c-acff-ef57acc8ce21",
   "metadata": {},
   "outputs": [
    {
     "name": "stdout",
     "output_type": "stream",
     "text": [
      "# Introduction to AI\n",
      "\n",
      "Artificial intelligence (AI) has rapidly become a key technology in many industries, revolutionizing processes and efficiency.\n",
      "\n",
      "# Conclusion\n",
      "The rapid advancement of AI presents both opportunities and challenges. As we continue to explore the boundaries of what AI can achieve, it is crucial to address the ethical implications and ensure the technology is used for the betterment of society.\n"
     ]
    }
   ],
   "source": [
    "# Path to Markdown File\n",
    "path_to_markdown_file = \"../data/raw/mock_markdown.md\"\n",
    "\n",
    "# Read Markdown File\n",
    "with open(path_to_markdown_file, \"r\", encoding=\"utf-8\") as file:\n",
    "    markdown_text = file.read()\n",
    "\n",
    "# Split into sections by headers\n",
    "sections = re.split(r\"\\n(#{1,3} .*)\\n\", markdown_text)\n",
    "processed_sections = [sections[0]]\n",
    "for i in range(1, len(sections), 2):\n",
    "    processed_sections.append(sections[i] + sections[i + 1])\n",
    "\n",
    "print(processed_sections[0])\n",
    "print(processed_sections[-1])"
   ]
  },
  {
   "cell_type": "markdown",
   "id": "7af23851-f3fc-44be-84f9-16f5b3c88d08",
   "metadata": {},
   "source": [
    "#### Generate Embeddings for Each Section"
   ]
  },
  {
   "cell_type": "code",
   "execution_count": 4,
   "id": "6e972cc6-07a7-4a6f-be2c-c0d0f79f5975",
   "metadata": {},
   "outputs": [],
   "source": [
    "def query_openai_embedding(api_key, text, model=\"text-embedding-ada-002\"):\n",
    "    \"\"\"\n",
    "    Queries OpenAI's embedding model for a single text and returns the embedding.\n",
    "\n",
    "    :param api_key: OpenAI API key.\n",
    "    :param text: Text to generate embedding for.\n",
    "    :param model: Embedding model to use.\n",
    "    :return: An embedding as a numpy array or a structured error message.\n",
    "    \"\"\"\n",
    "    url = f\"https://api.openai.com/v1/embeddings\"\n",
    "    headers = {\"Authorization\": f\"Bearer {api_key}\"}\n",
    "    payload = {\n",
    "        \"input\": text,\n",
    "        \"model\": model,\n",
    "    }\n",
    "\n",
    "    try:\n",
    "        response = requests.post(url, headers=headers, json=payload)\n",
    "        if response.status_code == 200:\n",
    "            data = response.json()\n",
    "            embedding = np.array(data[\"data\"][0][\"embedding\"], dtype=\"float32\")\n",
    "            return embedding\n",
    "        else:\n",
    "            error_message = f\"HTTP Error {response.status_code}\"\n",
    "            try:\n",
    "                error_details = response.json().get(\"error\", {})\n",
    "                message = error_details.get(\"message\", \"An unspecified error occurred\")\n",
    "            except ValueError:\n",
    "                message = \"Error details unavailable\"\n",
    "            error_message += f\": {message}\"\n",
    "            return {\"error\": error_message}\n",
    "\n",
    "    except requests.RequestException as e:\n",
    "        return {\"error\": f\"Connection error: {e}\"}"
   ]
  },
  {
   "cell_type": "markdown",
   "id": "2fc501ed-55a0-443f-929b-1581706fce9a",
   "metadata": {},
   "source": [
    "#### Usage"
   ]
  },
  {
   "cell_type": "code",
   "execution_count": 5,
   "id": "e12f9879-9f82-4416-ae68-1fb60823f719",
   "metadata": {},
   "outputs": [
    {
     "data": {
      "text/plain": [
       "array([[-0.01386116, -0.0071984 ,  0.00642108, ..., -0.01926976,\n",
       "        -0.02738266, -0.01477566],\n",
       "       [ 0.00907874, -0.02031003,  0.00869254, ..., -0.01133259,\n",
       "        -0.01924642, -0.01218096],\n",
       "       [-0.00515267, -0.03167649,  0.00684401, ..., -0.01012179,\n",
       "         0.00393006, -0.00900079],\n",
       "       ...,\n",
       "       [ 0.00073092, -0.01179264,  0.03521476, ..., -0.00540034,\n",
       "        -0.03646777, -0.00526329],\n",
       "       [-0.0086527 , -0.02715379,  0.01826967, ..., -0.02409384,\n",
       "        -0.01860395, -0.0146183 ],\n",
       "       [-0.00052276, -0.03423951,  0.0165895 , ..., -0.02817942,\n",
       "        -0.01378671, -0.01450634]], dtype=float32)"
      ]
     },
     "execution_count": 5,
     "metadata": {},
     "output_type": "execute_result"
    }
   ],
   "source": [
    "embeddings = []\n",
    "for text in processed_sections:\n",
    "    embedding = query_openai_embedding(OPENAI_CREDENTIALS, text)\n",
    "    if not isinstance(embedding, dict):\n",
    "        embeddings.append(embedding)\n",
    "    else:\n",
    "        print(\"Error retrieving embedding:\", embedding[\"error\"])\n",
    "\n",
    "# Convert the list of embeddings into a numpy array\n",
    "embeddings = np.array(embeddings)\n",
    "embeddings"
   ]
  },
  {
   "cell_type": "markdown",
   "id": "69f6949b-8d14-40dd-8b57-6bb7e21a2bed",
   "metadata": {},
   "source": [
    "#### Create FAISS Index"
   ]
  },
  {
   "cell_type": "code",
   "execution_count": 6,
   "id": "187856f4-3001-4622-b64c-0d2ebf62025f",
   "metadata": {},
   "outputs": [],
   "source": [
    "# Create FAISS Index\n",
    "dimension = embeddings.shape[1]\n",
    "index = faiss.IndexFlatL2(dimension)\n",
    "index.add(embeddings)"
   ]
  },
  {
   "cell_type": "markdown",
   "id": "94334bcc-08f1-46b5-9a58-ca1b417c5ad3",
   "metadata": {},
   "source": [
    "#### Querying"
   ]
  },
  {
   "cell_type": "code",
   "execution_count": 7,
   "id": "a124ade1-c396-4656-86f3-8f93002fb29d",
   "metadata": {},
   "outputs": [
    {
     "name": "stdout",
     "output_type": "stream",
     "text": [
      "Top similar sections to the query:\n",
      "\n",
      "Section 1: # Introduction to AI\n",
      "\n",
      "Artificial intelligence (AI) has rapidly become a key technology in many industries, revolutionizing processes and efficiency.\n",
      "...\n",
      "\n",
      "Section 2: ## History of AI\n",
      "The concept of artificial intelligence has been around for centuries, but it wasn't until the 20th century that it became a field of ...\n"
     ]
    }
   ],
   "source": [
    "# Query\n",
    "query_text = \"Artificial Intelligence\"\n",
    "query_embedding = query_openai_embedding(OPENAI_CREDENTIALS, query_text)\n",
    "query_embedding = np.array(query_embedding, dtype=\"float32\")\n",
    "\n",
    "# Search the FAISS index\n",
    "distances, indices = index.search(query_embedding.reshape(1, -1), 2)\n",
    "\n",
    "# Display Top Similar Sections\n",
    "print(\"Top similar sections to the query:\")\n",
    "for idx in indices[0]:\n",
    "    print(f\"\\nSection {idx+1}: {processed_sections[idx][:150]}...\")"
   ]
  },
  {
   "cell_type": "code",
   "execution_count": null,
   "id": "9a1248fb-4ba8-4033-be28-47d528052a40",
   "metadata": {},
   "outputs": [],
   "source": []
  },
  {
   "cell_type": "code",
   "execution_count": null,
   "id": "3f5aedb9-0644-4bfd-9ae3-9313797fd28f",
   "metadata": {},
   "outputs": [],
   "source": []
  },
  {
   "cell_type": "markdown",
   "id": "8151a7e3-069e-42e3-9fbe-c43479bbccbd",
   "metadata": {},
   "source": [
    "## Connect with me 🌐\n",
    "<div align=\"center\">\n",
    "  <a href=\"https://www.linkedin.com/in/labrijisaad/\">\n",
    "    <img src=\"https://img.shields.io/badge/LinkedIn-%230077B5.svg?&style=for-the-badge&logo=linkedin&logoColor=white\" alt=\"LinkedIn\" style=\"margin-bottom: 5px;\"/>\n",
    "  </a>\n",
    "  <a href=\"https://github.com/labrijisaad\">\n",
    "    <img src=\"https://img.shields.io/badge/GitHub-100000?style=for-the-badge&logo=github&logoColor=white\" alt=\"GitHub\" style=\"margin-bottom: 5px;\"/>\n",
    "  </a>\n",
    "</div>"
   ]
  }
 ],
 "metadata": {
  "kernelspec": {
   "display_name": "Python 3 (ipykernel)",
   "language": "python",
   "name": "python3"
  },
  "language_info": {
   "codemirror_mode": {
    "name": "ipython",
    "version": 3
   },
   "file_extension": ".py",
   "mimetype": "text/x-python",
   "name": "python",
   "nbconvert_exporter": "python",
   "pygments_lexer": "ipython3",
   "version": "3.11.5"
  }
 },
 "nbformat": 4,
 "nbformat_minor": 5
}
