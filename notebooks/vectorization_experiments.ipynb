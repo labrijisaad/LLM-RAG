{
 "cells": [
  {
   "cell_type": "markdown",
   "id": "10b14703-969c-4a25-9afe-9d324aaaddf6",
   "metadata": {},
   "source": [
    "<a href=\"https://github.com/labrijisaad/LLM-RAG/blob/main/notebooks/vectorization_experiments.ipynb\" target=\"_blank\">\n",
    "  <img src=\"https://img.shields.io/badge/Open%20in-GitHub-blue.svg\" alt=\"Open In GitHub\"/>\n",
    "</a>"
   ]
  },
  {
   "cell_type": "markdown",
   "id": "27d9c526-cbac-46e7-8d90-4e0f7e80369b",
   "metadata": {},
   "source": [
    "## <center><a><span style=\"color:red\">`OpenAI LLM` - Text Vectorization Experiments</span></a></center>"
   ]
  },
  {
   "cell_type": "markdown",
   "id": "bbc6157f-3e31-4ad8-9fef-ce9e0265946c",
   "metadata": {},
   "source": [
    "#### Setup and Configuration"
   ]
  },
  {
   "cell_type": "code",
   "execution_count": 1,
   "id": "b3e54197-6902-462f-810f-365e1e15679e",
   "metadata": {},
   "outputs": [],
   "source": [
    "import pandas as pd\n",
    "import numpy as np\n",
    "import requests\n",
    "import openai\n",
    "import faiss\n",
    "import yaml\n",
    "import re\n",
    "import os\n",
    "\n",
    "from tqdm.auto import tqdm\n",
    "\n",
    "# Load OpenAI API Key\n",
    "with open(\"../secrets/credentials.yml\", \"r\") as stream:\n",
    "    config = yaml.safe_load(stream)\n",
    "OPENAI_CREDENTIALS = config[\"OPENAI_CREDENTIALS\"]\n",
    "\n",
    "# Constants\n",
    "EMBEDDING_MODEL = \"text-embedding-ada-002\"\n",
    "PATH_TO_MARKDOWN_FILE = \"../data/raw/mock_markdown.md\""
   ]
  },
  {
   "cell_type": "markdown",
   "id": "9062d701-414b-44f6-91c6-804ed3ab45e5",
   "metadata": {},
   "source": [
    "### <a><span style=\"color:green\">Read and Preprocess `Markdown File`</span></a>"
   ]
  },
  {
   "cell_type": "code",
   "execution_count": 2,
   "id": "b3d6bf5b-0eef-411c-acff-ef57acc8ce21",
   "metadata": {},
   "outputs": [
    {
     "data": {
      "text/html": [
       "<div>\n",
       "<style scoped>\n",
       "    .dataframe tbody tr th:only-of-type {\n",
       "        vertical-align: middle;\n",
       "    }\n",
       "\n",
       "    .dataframe tbody tr th {\n",
       "        vertical-align: top;\n",
       "    }\n",
       "\n",
       "    .dataframe thead th {\n",
       "        text-align: right;\n",
       "    }\n",
       "</style>\n",
       "<table border=\"1\" class=\"dataframe\">\n",
       "  <thead>\n",
       "    <tr style=\"text-align: right;\">\n",
       "      <th></th>\n",
       "      <th>Sections</th>\n",
       "    </tr>\n",
       "  </thead>\n",
       "  <tbody>\n",
       "    <tr>\n",
       "      <th>0</th>\n",
       "      <td>## Healthcare\\n\\nIn healthcare, AI is being us...</td>\n",
       "    </tr>\n",
       "    <tr>\n",
       "      <th>1</th>\n",
       "      <td>## Finance\\nThe finance sector leverages AI fo...</td>\n",
       "    </tr>\n",
       "    <tr>\n",
       "      <th>2</th>\n",
       "      <td># Ethical Considerations\\nAs AI continues to e...</td>\n",
       "    </tr>\n",
       "    <tr>\n",
       "      <th>3</th>\n",
       "      <td>## Privacy and Surveillance\\nWith the increasi...</td>\n",
       "    </tr>\n",
       "    <tr>\n",
       "      <th>4</th>\n",
       "      <td>## Bias and Fairness\\nAI systems can inherit b...</td>\n",
       "    </tr>\n",
       "  </tbody>\n",
       "</table>\n",
       "</div>"
      ],
      "text/plain": [
       "                                            Sections\n",
       "0  ## Healthcare\\n\\nIn healthcare, AI is being us...\n",
       "1  ## Finance\\nThe finance sector leverages AI fo...\n",
       "2  # Ethical Considerations\\nAs AI continues to e...\n",
       "3  ## Privacy and Surveillance\\nWith the increasi...\n",
       "4  ## Bias and Fairness\\nAI systems can inherit b..."
      ]
     },
     "execution_count": 2,
     "metadata": {},
     "output_type": "execute_result"
    }
   ],
   "source": [
    "def read_and_process_markdown(file_path):\n",
    "    with open(file_path, \"r\", encoding=\"utf-8\") as file:\n",
    "        text = file.read()\n",
    "    sections = re.split(r\"\\n(#{1,3} .*)\\n\", text)\n",
    "    processed = [sections[0]] + [\n",
    "        sections[i] + sections[i + 1] for i in range(1, len(sections), 2)\n",
    "    ]\n",
    "    return processed\n",
    "\n",
    "\n",
    "texts = read_and_process_markdown(PATH_TO_MARKDOWN_FILE)\n",
    "\n",
    "# Display sections\n",
    "df_sections = pd.DataFrame({\"Sections\": texts})\n",
    "df_sections.head()"
   ]
  },
  {
   "cell_type": "markdown",
   "id": "7af23851-f3fc-44be-84f9-16f5b3c88d08",
   "metadata": {},
   "source": [
    "### <a><span style=\"color:green\">Generate `Embeddings` for Each Section</span></a>"
   ]
  },
  {
   "cell_type": "code",
   "execution_count": 3,
   "id": "6e972cc6-07a7-4a6f-be2c-c0d0f79f5975",
   "metadata": {},
   "outputs": [],
   "source": [
    "def query_openai_embedding(api_key, text, model=\"text-embedding-ada-002\"):\n",
    "    \"\"\"\n",
    "    Queries OpenAI's embedding model for a single text and returns the embedding.\n",
    "\n",
    "    :param api_key: OpenAI API key.\n",
    "    :param text: Text to generate embedding for.\n",
    "    :param model: Embedding model to use.\n",
    "    :return: An embedding as a numpy array or a structured error message.\n",
    "    \"\"\"\n",
    "    url = f\"https://api.openai.com/v1/embeddings\"\n",
    "    headers = {\"Authorization\": f\"Bearer {api_key}\"}\n",
    "    payload = {\n",
    "        \"input\": text,\n",
    "        \"model\": model,\n",
    "    }\n",
    "\n",
    "    try:\n",
    "        response = requests.post(url, headers=headers, json=payload)\n",
    "        if response.status_code == 200:\n",
    "            data = response.json()\n",
    "            embedding = np.array(data[\"data\"][0][\"embedding\"], dtype=\"float32\")\n",
    "            return embedding\n",
    "        else:\n",
    "            error_message = f\"HTTP Error {response.status_code}\"\n",
    "            try:\n",
    "                error_details = response.json().get(\"error\", {})\n",
    "                message = error_details.get(\"message\", \"An unspecified error occurred\")\n",
    "            except ValueError:\n",
    "                message = \"Error details unavailable\"\n",
    "            error_message += f\": {message}\"\n",
    "            return {\"error\": error_message}\n",
    "\n",
    "    except requests.RequestException as e:\n",
    "        return {\"error\": f\"Connection error: {e}\"}"
   ]
  },
  {
   "cell_type": "markdown",
   "id": "43002c6f-bf43-40af-9901-9917db79b0f2",
   "metadata": {},
   "source": [
    "### <a><span style=\"color:green\">Create `Embeddings`</span></a>\n",
    "##### (Uncomment if First Time)"
   ]
  },
  {
   "cell_type": "code",
   "execution_count": 4,
   "id": "4835c843-af27-4441-a312-2c740db18b73",
   "metadata": {},
   "outputs": [],
   "source": [
    "# # Get embeddings\n",
    "# embeddings = []\n",
    "# for text in tqdm(texts):\n",
    "#     embedding = query_openai_embedding(OPENAI_CREDENTIALS, text)\n",
    "#     if not isinstance(embedding, dict):\n",
    "#         embeddings.append(embedding)\n",
    "#     else:\n",
    "#         print(\"Error retrieving embedding:\", embedding[\"error\"])\n",
    "\n",
    "# # Convert the list of embeddings into a numpy array\n",
    "# embeddings = np.array(embeddings)\n",
    "# embeddings"
   ]
  },
  {
   "cell_type": "markdown",
   "id": "69f6949b-8d14-40dd-8b57-6bb7e21a2bed",
   "metadata": {},
   "source": [
    "### <a><span style=\"color:green\">Create `FAISS Index`</span></a>\n",
    "##### (Uncomment if First Time)"
   ]
  },
  {
   "cell_type": "code",
   "execution_count": 5,
   "id": "187856f4-3001-4622-b64c-0d2ebf62025f",
   "metadata": {},
   "outputs": [],
   "source": [
    "# dimension = embeddings.shape[1]\n",
    "# index = faiss.IndexFlatL2(dimension)\n",
    "# index.add(embeddings)"
   ]
  },
  {
   "cell_type": "markdown",
   "id": "c2d4adb4-d460-421c-8d1e-863f5846dff3",
   "metadata": {},
   "source": [
    "### <a><span style=\"color:green\">Saving the `FAISS Index`</span></a>\n",
    "##### (Uncomment if First Time)"
   ]
  },
  {
   "cell_type": "code",
   "execution_count": 6,
   "id": "a048194c-930e-4274-a8cc-4b75f43002de",
   "metadata": {},
   "outputs": [],
   "source": [
    "# # Save the index to a file\n",
    "# faiss.write_index(index, \"../faiss_index.bin\")"
   ]
  },
  {
   "cell_type": "markdown",
   "id": "3493d28b-078f-419e-afcb-5bb9ab1150db",
   "metadata": {},
   "source": [
    "### <a><span style=\"color:green\">Loading the `FAISS Index`</span></a>"
   ]
  },
  {
   "cell_type": "code",
   "execution_count": 7,
   "id": "b9cdbe7e-3273-4891-b1bf-3cca5bbcc0ac",
   "metadata": {},
   "outputs": [],
   "source": [
    "# Load the index from the file\n",
    "index = faiss.read_index(\"../faiss_index.bin\")"
   ]
  },
  {
   "cell_type": "markdown",
   "id": "94334bcc-08f1-46b5-9a58-ca1b417c5ad3",
   "metadata": {},
   "source": [
    "### <a><span style=\"color:green\">Querying</span></a>"
   ]
  },
  {
   "cell_type": "code",
   "execution_count": 8,
   "id": "a124ade1-c396-4656-86f3-8f93002fb29d",
   "metadata": {},
   "outputs": [],
   "source": [
    "def search_similar_sections(query_text, index, texts, api_key, num_results=2):\n",
    "    \"\"\"\n",
    "    Searches for sections most similar to the given query text, using a FAISS index.\n",
    "\n",
    "    Parameters:\n",
    "    - query_text: The text to query against the indexed sections.\n",
    "    - index: The FAISS index containing the embeddings of the sections.\n",
    "    - texts: The original texts corresponding to the embeddings in the FAISS index.\n",
    "    - api_key: The API key for OpenAI.\n",
    "    - num_results: The number of similar sections to return.\n",
    "\n",
    "    Returns:\n",
    "    - A list of dictionaries, each containing the 'index' and 'text' of the similar sections.\n",
    "    \"\"\"\n",
    "    # Generate the embedding for the query text\n",
    "    query_embedding = query_openai_embedding(api_key, query_text)\n",
    "    query_embedding = np.array(query_embedding, dtype=\"float32\")\n",
    "\n",
    "    # Search the FAISS index for the nearest neighbors\n",
    "    distances, indices = index.search(query_embedding.reshape(1, -1), num_results)\n",
    "\n",
    "    # Retrieve the most similar sections\n",
    "    results = [{\"index\": idx, \"text\": texts[idx]} for idx in indices[0]]\n",
    "\n",
    "    return results"
   ]
  },
  {
   "cell_type": "markdown",
   "id": "989e75a9-eb3a-4f58-9420-1e9944239a30",
   "metadata": {},
   "source": [
    "#### <a><span style=\"color:blue\">Example `1`</span></a>"
   ]
  },
  {
   "cell_type": "code",
   "execution_count": 9,
   "id": "3f5aedb9-0644-4bfd-9ae3-9313797fd28f",
   "metadata": {},
   "outputs": [
    {
     "name": "stdout",
     "output_type": "stream",
     "text": [
      "Top similar sections to the query:\n",
      "\n",
      "Section 12: # Introduction to AI\n",
      "Artificial intelligence (AI) has rapidly become a key technology in many industries, revolutionizing processes and efficiency.\n",
      "\n",
      "\n",
      "Section 46: ## The Rise of Artificial Intelligence\n",
      "AI is transforming business, healthcare, and daily life, offering new possibilities in automation and smart technology.\n",
      "\n",
      "\n",
      "Section 13: ## History of AI\n",
      "The concept of artificial intelligence has been around for centuries, but it wasn't until the 20th century that it became a field of study. Alan Turing, a British mathematician and logician, laid the groundwork for modern computing and theorized about machines that could think.\n",
      "\n",
      "\n",
      "Section 15: ## Machine Learning\n",
      "Machine learning, a subset of AI, involves the development of algorithms that allow computers to learn from and make predictions or decisions based on data.\n",
      "\n"
     ]
    }
   ],
   "source": [
    "num_results = 4\n",
    "query_text = \"Artificial Intelligence\"\n",
    "results = search_similar_sections(\n",
    "    query_text, index, texts, OPENAI_CREDENTIALS, num_results\n",
    ")\n",
    "\n",
    "print(\"Top similar sections to the query:\")\n",
    "for result in results:\n",
    "    print(f\"\\nSection {result['index']+1}: {result['text']}\")"
   ]
  },
  {
   "cell_type": "markdown",
   "id": "6bce4b13-a3f3-4532-925f-be39182af28f",
   "metadata": {},
   "source": [
    "#### <a><span style=\"color:blue\">Example `2`</span></a>"
   ]
  },
  {
   "cell_type": "code",
   "execution_count": 10,
   "id": "8d2c5f74-0847-4d4e-80d2-5a7df003776c",
   "metadata": {},
   "outputs": [
    {
     "name": "stdout",
     "output_type": "stream",
     "text": [
      "Top similar sections to the query:\n",
      "\n",
      "Section 1: ## Healthcare\n",
      "\n",
      "In healthcare, AI is being used to make more accurate diagnoses, predict patient outcomes, and personalize patient treatment plans.\n",
      "\n",
      "\n",
      "Section 30: # Comprehensive Guide on Health and Fitness\n",
      "Health and fitness have become central to modern lifestyle, emphasizing the importance of regular exercise, balanced diet, and mental well-being.\n",
      "\n",
      "\n",
      "Section 46: ## The Rise of Artificial Intelligence\n",
      "AI is transforming business, healthcare, and daily life, offering new possibilities in automation and smart technology.\n",
      "\n"
     ]
    }
   ],
   "source": [
    "num_results = 3\n",
    "query_text = \"healthcare\"\n",
    "results = search_similar_sections(\n",
    "    query_text, index, texts, OPENAI_CREDENTIALS, num_results\n",
    ")\n",
    "\n",
    "print(\"Top similar sections to the query:\")\n",
    "for result in results:\n",
    "    print(f\"\\nSection {result['index']+1}: {result['text']}\")"
   ]
  },
  {
   "cell_type": "markdown",
   "id": "fa22e0fb-8d0d-480a-a28f-d42b9fe4c61c",
   "metadata": {},
   "source": [
    "#### <a><span style=\"color:blue\">Example `3`</span></a>"
   ]
  },
  {
   "cell_type": "code",
   "execution_count": 11,
   "id": "b9b0f778-d7a3-4fee-a080-79921983387b",
   "metadata": {},
   "outputs": [
    {
     "name": "stdout",
     "output_type": "stream",
     "text": [
      "Top similar sections to the query:\n",
      "\n",
      "Section 26: ## The Rise of Social Media\n",
      "Platforms like Facebook, Twitter, and Instagram have changed the way we connect with others and consume information.\n",
      "\n"
     ]
    }
   ],
   "source": [
    "num_results = 1\n",
    "query_text = \"Social Media\"\n",
    "results = search_similar_sections(\n",
    "    query_text, index, texts, OPENAI_CREDENTIALS, num_results\n",
    ")\n",
    "\n",
    "print(\"Top similar sections to the query:\")\n",
    "for result in results:\n",
    "    print(f\"\\nSection {result['index']+1}: {result['text']}\")"
   ]
  },
  {
   "cell_type": "markdown",
   "id": "e6364c79-65b4-473d-9ed9-998ac0db391d",
   "metadata": {},
   "source": [
    "## <center><a><span style=\"color:red\">`OpenAI LLM` - Text Vectorization Experiments - `Class Based`</span></a></center>"
   ]
  },
  {
   "cell_type": "code",
   "execution_count": 1,
   "id": "2c56a9a4-b313-476a-9ad0-b4085498500c",
   "metadata": {},
   "outputs": [],
   "source": [
    "import faiss\n",
    "import numpy as np\n",
    "import pandas as pd\n",
    "import requests\n",
    "import yaml\n",
    "import os\n",
    "import re\n",
    "from tqdm.auto import tqdm\n",
    "\n",
    "class OpenAIEmbeddings:\n",
    "    def __init__(self, credentials_path=\"../secrets/credentials.yml\", embedding_model=\"text-embedding-ada-002\"):\n",
    "        self.credentials_path = credentials_path\n",
    "        self.embedding_model = embedding_model\n",
    "        self.api_key = self.load_credentials()\n",
    "        self.texts = []\n",
    "        self.embeddings = None\n",
    "        self.faiss_index = None\n",
    "\n",
    "    def load_credentials(self):\n",
    "        with open(self.credentials_path, \"r\") as stream:\n",
    "            config = yaml.safe_load(stream)\n",
    "        return config[\"OPENAI_CREDENTIALS\"]\n",
    "\n",
    "    def read_and_process_markdown(self, file_path):\n",
    "        with open(file_path, \"r\", encoding=\"utf-8\") as file:\n",
    "            text = file.read()\n",
    "        sections = re.split(r\"\\n(#{1,3} .*)\\n\", text)\n",
    "        self.texts = [sections[0]] + [sections[i] + sections[i + 1] for i in range(1, len(sections), 2)]\n",
    "        return self.texts\n",
    "\n",
    "    def query_openai_embedding(self, text):\n",
    "        url = f\"https://api.openai.com/v1/embeddings\"\n",
    "        headers = {\"Authorization\": f\"Bearer {self.api_key}\"}\n",
    "        payload = {\n",
    "            \"input\": text,\n",
    "            \"model\": self.embedding_model,\n",
    "        }\n",
    "        response = requests.post(url, headers=headers, json=payload)\n",
    "        if response.status_code == 200:\n",
    "            data = response.json()\n",
    "            embedding = np.array(data[\"data\"][0][\"embedding\"], dtype=\"float32\")\n",
    "            return embedding\n",
    "        else:\n",
    "            return None\n",
    "\n",
    "    def generate_embeddings(self):\n",
    "        self.embeddings = np.array([self.query_openai_embedding(text) for text in tqdm(self.texts) if text is not None])\n",
    "\n",
    "    def create_faiss_index(self):\n",
    "        dimension = self.embeddings.shape[1]\n",
    "        self.faiss_index = faiss.IndexFlatL2(dimension)\n",
    "        self.faiss_index.add(self.embeddings)\n",
    "\n",
    "    def search_similar_sections(self, query_text, num_results=2):\n",
    "        query_embedding = self.query_openai_embedding(query_text)\n",
    "        distances, indices = self.faiss_index.search(np.array([query_embedding], dtype=\"float32\"), num_results)\n",
    "        return [{\"index\": idx, \"text\": self.texts[idx]} for idx in indices[0]]\n",
    "\n",
    "    def save_faiss_index(self, index_path=\"../faiss_index.bin\"):\n",
    "        faiss.write_index(self.faiss_index, index_path)\n",
    "\n",
    "    def load_faiss_index(self, index_path=\"../faiss_index.bin\"):\n",
    "        self.faiss_index = faiss.read_index(index_path)"
   ]
  },
  {
   "cell_type": "code",
   "execution_count": 2,
   "id": "2e50ff02-fc85-4b6f-bdb3-dc667ee48552",
   "metadata": {},
   "outputs": [],
   "source": [
    "# Initialize the class\n",
    "embedder = OpenAIEmbeddings(credentials_path=\"../secrets/credentials.yml\", \n",
    "                            embedding_model=\"text-embedding-ada-002\")"
   ]
  },
  {
   "cell_type": "code",
   "execution_count": 4,
   "id": "e0e60d28-93ed-4564-9bd1-7ffe56fb0e5b",
   "metadata": {},
   "outputs": [
    {
     "data": {
      "text/plain": [
       "'## Healthcare\\n\\nIn healthcare, AI is being used to make more accurate diagnoses, predict patient outcomes, and personalize patient treatment plans.\\n'"
      ]
     },
     "execution_count": 4,
     "metadata": {},
     "output_type": "execute_result"
    }
   ],
   "source": [
    "# Load and process a markdown file\n",
    "texts = embedder.read_and_process_markdown(\"../data/raw/mock_markdown.md\")\n",
    "texts[0]"
   ]
  },
  {
   "cell_type": "code",
   "execution_count": 5,
   "id": "d8846b6e-2b1e-4035-b25f-2edf222c37f6",
   "metadata": {},
   "outputs": [
    {
     "data": {
      "application/vnd.jupyter.widget-view+json": {
       "model_id": "38c9b77766654dfaaa9701146ba06338",
       "version_major": 2,
       "version_minor": 0
      },
      "text/plain": [
       "  0%|          | 0/50 [00:00<?, ?it/s]"
      ]
     },
     "metadata": {},
     "output_type": "display_data"
    }
   ],
   "source": [
    "# Generate embeddings for the processed texts\n",
    "embedder.generate_embeddings()\n",
    "\n",
    "# Create a FAISS index for the embeddings\n",
    "embedder.create_faiss_index()"
   ]
  },
  {
   "cell_type": "code",
   "execution_count": 7,
   "id": "56e6040e-a05d-4c3d-b18b-a9ff8aafe03f",
   "metadata": {},
   "outputs": [
    {
     "name": "stdout",
     "output_type": "stream",
     "text": [
      "\n",
      "12: # Introduction to AI\n",
      "Artificial intelligence (AI) has rapidly become a key technology in many industries, revolutionizing processes and efficiency.\n",
      "\n",
      "\n",
      "46: ## The Rise of Artificial Intelligence\n",
      "AI is transforming business, healthcare, and daily life, offering new possibilities in automation and smart technology.\n",
      "\n",
      "\n",
      "13: ## History of AI\n",
      "The concept of artificial intelligence has been around for centuries, but it wasn't until the 20th century that it became a field of study. Alan Turing, a British mathematician and logician, laid the groundwork for modern computing and theorized about machines that could think.\n",
      "\n",
      "\n",
      "15: ## Machine Learning\n",
      "Machine learning, a subset of AI, involves the development of algorithms that allow computers to learn from and make predictions or decisions based on data.\n",
      "\n"
     ]
    }
   ],
   "source": [
    "# Query for similar sections\n",
    "query_text = \"Artificial Intelligence\"\n",
    "results = embedder.search_similar_sections(query_text, num_results=4)\n",
    "\n",
    "for result in results:\n",
    "    print(f\"\\n{result['index']+1}: {result['text']}\")"
   ]
  },
  {
   "cell_type": "markdown",
   "id": "8151a7e3-069e-42e3-9fbe-c43479bbccbd",
   "metadata": {},
   "source": [
    "## Connect with me 🌐\n",
    "<div align=\"center\">\n",
    "  <a href=\"https://www.linkedin.com/in/labrijisaad/\">\n",
    "    <img src=\"https://img.shields.io/badge/LinkedIn-%230077B5.svg?&style=for-the-badge&logo=linkedin&logoColor=white\" alt=\"LinkedIn\" style=\"margin-bottom: 5px;\"/>\n",
    "  </a>\n",
    "  <a href=\"https://github.com/labrijisaad\">\n",
    "    <img src=\"https://img.shields.io/badge/GitHub-100000?style=for-the-badge&logo=github&logoColor=white\" alt=\"GitHub\" style=\"margin-bottom: 5px;\"/>\n",
    "  </a>\n",
    "</div>"
   ]
  }
 ],
 "metadata": {
  "kernelspec": {
   "display_name": "Python 3 (ipykernel)",
   "language": "python",
   "name": "python3"
  },
  "language_info": {
   "codemirror_mode": {
    "name": "ipython",
    "version": 3
   },
   "file_extension": ".py",
   "mimetype": "text/x-python",
   "name": "python",
   "nbconvert_exporter": "python",
   "pygments_lexer": "ipython3",
   "version": "3.11.5"
  }
 },
 "nbformat": 4,
 "nbformat_minor": 5
}
